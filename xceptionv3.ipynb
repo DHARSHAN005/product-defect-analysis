{
 "cells": [
  {
   "cell_type": "code",
   "execution_count": 1,
   "metadata": {
    "id": "tUGVYriLGMMM"
   },
   "outputs": [
    {
     "name": "stderr",
     "output_type": "stream",
     "text": [
      "'unzip' is not recognized as an internal or external command,\n",
      "operable program or batch file.\n"
     ]
    }
   ],
   "source": [
    "!unzip \"/content/drive/MyDrive/rice.zip\""
   ]
  },
  {
   "cell_type": "code",
   "execution_count": 2,
   "metadata": {
    "id": "yOjHAtpoGcqe"
   },
   "outputs": [],
   "source": [
    "import tensorflow as tf\n",
    "from tensorflow.keras.applications import Xception\n",
    "from tensorflow.keras.models import Model\n",
    "from tensorflow.keras.layers import Dense, GlobalAveragePooling2D\n",
    "from tensorflow.keras.optimizers import SGD\n",
    "from tensorflow.keras.preprocessing.image import ImageDataGenerator\n",
    "from sklearn.metrics import classification_report, confusion_matrix\n",
    "import numpy as np"
   ]
  },
  {
   "cell_type": "code",
   "execution_count": 3,
   "metadata": {
    "id": "V9Z4fOYsGcv5"
   },
   "outputs": [],
   "source": [
    "# Define constants\n",
    "num_classes = 2\n",
    "train_data_dir = r'C:\\Users\\user\\Desktop\\python training code\\product defective 50 percent\\train'\n",
    "validation_data_dir = r'C:\\Users\\user\\Desktop\\python training code\\product defective 50 percent\\validation'\n",
    "img_height, img_width = 640, 640\n",
    "batch_size = 5\n",
    "num_train_samples = 350\n",
    "num_validation_samples = 100\n",
    "epochs = 6"
   ]
  },
  {
   "cell_type": "code",
   "execution_count": 4,
   "metadata": {
    "colab": {
     "base_uri": "https://localhost:8080/"
    },
    "id": "kXee2AggGpmP",
    "outputId": "fec47771-018e-4b3d-d79e-52e2f9e746e3"
   },
   "outputs": [
    {
     "name": "stderr",
     "output_type": "stream",
     "text": [
      "WARNING:absl:`lr` is deprecated, please use `learning_rate` instead, or use the legacy optimizer, e.g.,tf.keras.optimizers.legacy.SGD.\n"
     ]
    }
   ],
   "source": [
    "# Load Xception model\n",
    "base_model = Xception(weights='imagenet', include_top=False)\n",
    "\n",
    "# Add custom output layer\n",
    "x = base_model.output\n",
    "x = GlobalAveragePooling2D()(x)\n",
    "x = Dense(1024, activation='relu')(x)\n",
    "predictions = Dense(num_classes, activation='softmax')(x)  # Add a final softmax layer for classification\n",
    "\n",
    "model = Model(inputs=base_model.input, outputs=predictions)\n",
    "\n",
    "# Compile the model\n",
    "model.compile(optimizer=SGD(lr=0.0001, momentum=0.9), loss='categorical_crossentropy', metrics=['accuracy'])\n",
    "\n",
    "# Preprocess the input data\n",
    "train_datagen = ImageDataGenerator(preprocessing_function=tf.keras.applications.xception.preprocess_input)\n",
    "test_datagen = ImageDataGenerator(preprocessing_function=tf.keras.applications.xception.preprocess_input)"
   ]
  },
  {
   "cell_type": "code",
   "execution_count": 5,
   "metadata": {
    "colab": {
     "base_uri": "https://localhost:8080/"
    },
    "id": "tr52bQfXG5-L",
    "outputId": "c997cd98-a347-4d5a-d01c-18f34e6fe0f4"
   },
   "outputs": [
    {
     "name": "stdout",
     "output_type": "stream",
     "text": [
      "Found 1300 images belonging to 2 classes.\n",
      "Found 1300 images belonging to 2 classes.\n"
     ]
    }
   ],
   "source": [
    "\n",
    "train_generator = train_datagen.flow_from_directory(\n",
    "    train_data_dir,\n",
    "    target_size=(img_height, img_width),\n",
    "    batch_size=batch_size,\n",
    "    class_mode='categorical')\n",
    "\n",
    "validation_generator = test_datagen.flow_from_directory(\n",
    "    validation_data_dir,\n",
    "    target_size=(img_height, img_width),\n",
    "    batch_size=batch_size,\n",
    "    class_mode='categorical',\n",
    "    shuffle=False)"
   ]
  },
  {
   "cell_type": "code",
   "execution_count": null,
   "metadata": {
    "colab": {
     "base_uri": "https://localhost:8080/"
    },
    "id": "f7nsP4-GG6Gs",
    "outputId": "e192b17e-4ff7-457f-c093-0cf97141fb2e"
   },
   "outputs": [
    {
     "name": "stdout",
     "output_type": "stream",
     "text": [
      "Epoch 1/6\n",
      "260/260 [==============================] - 55529s 214s/step - loss: 0.6722 - accuracy: 0.6000 - val_loss: 0.6729 - val_accuracy: 0.6008\n",
      "Epoch 2/6\n",
      "260/260 [==============================] - 3439s 13s/step - loss: 0.6766 - accuracy: 0.5977 - val_loss: 0.6733 - val_accuracy: 0.6008\n",
      "Epoch 3/6\n",
      "260/260 [==============================] - 3036s 12s/step - loss: 0.6752 - accuracy: 0.6008 - val_loss: 0.6732 - val_accuracy: 0.6008\n",
      "Epoch 4/6\n",
      "260/260 [==============================] - ETA: 0s - loss: 0.6754 - accuracy: 0.6008 "
     ]
    }
   ],
   "source": [
    "# Train the model\n",
    "model.fit(train_generator, epochs=epochs, validation_data=validation_generator)\n"
   ]
  },
  {
   "cell_type": "code",
   "execution_count": null,
   "metadata": {
    "colab": {
     "base_uri": "https://localhost:8080/"
    },
    "id": "kHKfUBoqH1FB",
    "outputId": "4d6e1f6e-bf38-4794-80b9-5301cceb35c7"
   },
   "outputs": [],
   "source": [
    "# Evaluate the model\n",
    "loss, accuracy = model.evaluate(validation_generator)\n",
    "print(\"Validation accuracy: {:.2f}%\".format(accuracy * 100))"
   ]
  },
  {
   "cell_type": "code",
   "execution_count": null,
   "metadata": {
    "colab": {
     "base_uri": "https://localhost:8080/"
    },
    "id": "30qq_jLtIdyr",
    "outputId": "e9daac0a-2e14-4189-eb45-8e3b3db684af"
   },
   "outputs": [],
   "source": [
    "# Prediction\n",
    "Y_pred = model.predict(validation_generator)\n",
    "y_pred = np.argmax(Y_pred, axis=1)"
   ]
  },
  {
   "cell_type": "code",
   "execution_count": null,
   "metadata": {
    "id": "nOhZ5KA_Iew2"
   },
   "outputs": [],
   "source": [
    "# Get class labels\n",
    "class_labels = list(validation_generator.class_indices.keys())"
   ]
  },
  {
   "cell_type": "code",
   "execution_count": null,
   "metadata": {
    "colab": {
     "base_uri": "https://localhost:8080/"
    },
    "id": "8QkWVUYTIe-Y",
    "outputId": "1ff08965-258c-4f63-bf76-d1f33f5661a8"
   },
   "outputs": [],
   "source": [
    "# Print classification report\n",
    "print(\"Classification Report:\")\n",
    "print(classification_report(validation_generator.classes, y_pred, target_names=class_labels))\n",
    "\n",
    "# Print confusion matrix\n",
    "print(\"Confusion Matrix:\")\n",
    "print(confusion_matrix(validation_generator.classes, y_pred))"
   ]
  },
  {
   "cell_type": "code",
   "execution_count": null,
   "metadata": {
    "colab": {
     "base_uri": "https://localhost:8080/"
    },
    "id": "E16PIpe7IfIT",
    "outputId": "48f1c704-27a0-4b92-8a80-637477efda76"
   },
   "outputs": [],
   "source": [
    "# Save the trained model\n",
    "model.save('xceptionv_model.h5')"
   ]
  },
  {
   "cell_type": "code",
   "execution_count": null,
   "metadata": {
    "id": "g171FnEiPh1N"
   },
   "outputs": [],
   "source": [
    "from tensorflow.keras.models import load_model\n",
    "\n",
    "# Load the saved model\n",
    "loaded_model = load_model('xceptionv_model.h5')"
   ]
  },
  {
   "cell_type": "code",
   "execution_count": null,
   "metadata": {
    "colab": {
     "base_uri": "https://localhost:8080/",
     "height": 480
    },
    "id": "njBmrvB0P4j0",
    "outputId": "06fa8d1b-3602-40fe-81bf-554a51977804"
   },
   "outputs": [],
   "source": [
    "import numpy as np\n",
    "from tensorflow.keras.preprocessing import image\n",
    "import matplotlib.pyplot as plt\n",
    "\n",
    "# Load the saved model\n",
    "loaded_model = tf.keras.models.load_model('xceptionv_model.h5')\n",
    "\n",
    "# Load and preprocess the input image\n",
    "img_path = '/content/bacterial_leaf_blight (1).JPG'\n",
    "img = image.load_img(img_path, target_size=(224, 224))\n",
    "img_array = image.img_to_array(img)\n",
    "img_array = np.expand_dims(img_array, axis=0)\n",
    "img_array = tf.keras.applications.inception_v3.preprocess_input(img_array)\n",
    "\n",
    "# Make prediction\n",
    "predictions = loaded_model.predict(img_array)\n",
    "predicted_class = np.argmax(predictions)\n",
    "\n",
    "# Get the class name corresponding to the predicted class index\n",
    "predicted_class_name = class_labels[predicted_class]\n",
    "\n",
    "# Display the input image\n",
    "plt.imshow(img)\n",
    "plt.axis('off')\n",
    "plt.title('Input Image')\n",
    "plt.show()\n",
    "\n",
    "# Print predicted class index and its corresponding class name\n",
    "print(\"Predicted Class Index:\", predicted_class)\n",
    "print(\"Predicted Class Name:\", predicted_class_name)\n"
   ]
  },
  {
   "cell_type": "code",
   "execution_count": null,
   "metadata": {
    "id": "19zlA6nkP4tv"
   },
   "outputs": [],
   "source": [
    "\n"
   ]
  }
 ],
 "metadata": {
  "accelerator": "GPU",
  "colab": {
   "gpuType": "T4",
   "provenance": []
  },
  "kernelspec": {
   "display_name": "Python 3 (ipykernel)",
   "language": "python",
   "name": "python3"
  },
  "language_info": {
   "codemirror_mode": {
    "name": "ipython",
    "version": 3
   },
   "file_extension": ".py",
   "mimetype": "text/x-python",
   "name": "python",
   "nbconvert_exporter": "python",
   "pygments_lexer": "ipython3",
   "version": "3.9.13"
  }
 },
 "nbformat": 4,
 "nbformat_minor": 4
}
